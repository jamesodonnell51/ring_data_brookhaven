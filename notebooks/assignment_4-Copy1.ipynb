{
 "cells": [
  {
   "cell_type": "markdown",
   "id": "316c309d",
   "metadata": {},
   "source": [
    "## Ring and police department partnerships: 2022 analysis\n",
    "\n",
    "This is a data analysis of Brookhaven, Georgia police department's relationship with Amazon/Ring cameras. The dataset contains all alert emails sent by Ring to the police department about alleged crimes that Ring camera users uploaded to the Neighbors app.\n",
    "\n",
    "The analysis will take place in two parts. In Part One, we'll be resampling the data to see how many messages were sent over time. In Part Two, we'll analyze the messages to see if they contain two different phrases: 'car' and 'package'. \n"
   ]
  },
  {
   "cell_type": "markdown",
   "id": "c5522595",
   "metadata": {},
   "source": [
    "First, let's import the data and take a look at the columns."
   ]
  },
  {
   "cell_type": "code",
   "execution_count": 1,
   "id": "ab7aee17",
   "metadata": {},
   "outputs": [],
   "source": [
    "import pandas as pd"
   ]
  },
  {
   "cell_type": "code",
   "execution_count": 2,
   "id": "2de4cf16",
   "metadata": {},
   "outputs": [],
   "source": [
    "data = pd.read_csv(\"../data/msg_extracts.csv\")"
   ]
  },
  {
   "cell_type": "code",
   "execution_count": 3,
   "id": "a2614a43",
   "metadata": {},
   "outputs": [
    {
     "data": {
      "text/html": [
       "<div>\n",
       "<style scoped>\n",
       "    .dataframe tbody tr th:only-of-type {\n",
       "        vertical-align: middle;\n",
       "    }\n",
       "\n",
       "    .dataframe tbody tr th {\n",
       "        vertical-align: top;\n",
       "    }\n",
       "\n",
       "    .dataframe thead th {\n",
       "        text-align: right;\n",
       "    }\n",
       "</style>\n",
       "<table border=\"1\" class=\"dataframe\">\n",
       "  <thead>\n",
       "    <tr style=\"text-align: right;\">\n",
       "      <th></th>\n",
       "      <th>subject</th>\n",
       "      <th>date</th>\n",
       "      <th>sender</th>\n",
       "      <th>to</th>\n",
       "      <th>cc</th>\n",
       "      <th>body_title_top</th>\n",
       "      <th>body_link1_title</th>\n",
       "      <th>body_post_classification</th>\n",
       "      <th>body_title</th>\n",
       "      <th>body_date</th>\n",
       "      <th>body_description</th>\n",
       "      <th>body_link2_title</th>\n",
       "      <th>body_link3_title</th>\n",
       "      <th>body_full</th>\n",
       "      <th>file_name</th>\n",
       "    </tr>\n",
       "  </thead>\n",
       "  <tbody>\n",
       "    <tr>\n",
       "      <th>0</th>\n",
       "      <td>A Resident Posted a Crime Incident</td>\n",
       "      <td>Wed, 17 Nov 2021 18:16:36 -0500</td>\n",
       "      <td>Ring Team &lt;no-reply@neighborhoods.ring.com&gt;</td>\n",
       "      <td>andrea.serrano@brookhavenga.gov</td>\n",
       "      <td>NaN</td>\n",
       "      <td>Stolen Package at Berkshire at Lenox Park</td>\n",
       "      <td>Neighbors Public Safety Service &lt;https://links...</td>\n",
       "      <td>A resident in your area just posted a crime in...</td>\n",
       "      <td>Stolen Package at Berkshire at Lenox Park</td>\n",
       "      <td>November 17, 2021</td>\n",
       "      <td>Stolen package</td>\n",
       "      <td>Click Here to View Post &lt;https://links.neighbo...</td>\n",
       "      <td>&lt;https://ring.widen.net/content/yxyweylxpc/png...</td>\n",
       "      <td>Post Titled: Stolen Package at Berkshire at Le...</td>\n",
       "      <td>../data/neighbors_data/brookhaven/A Resident P...</td>\n",
       "    </tr>\n",
       "    <tr>\n",
       "      <th>1</th>\n",
       "      <td>A Resident Posted a Crime Incident</td>\n",
       "      <td>Mon, 17 May 2021 08:38:51 -0400</td>\n",
       "      <td>Ring Team &lt;no-reply@neighborhoods.ring.com&gt;</td>\n",
       "      <td>travis.lewis@brookhavenga.gov</td>\n",
       "      <td>NaN</td>\n",
       "      <td>Car</td>\n",
       "      <td>Neighbors Public Safety Service &lt;https://links...</td>\n",
       "      <td>A resident in your area just posted a crime in...</td>\n",
       "      <td>Car</td>\n",
       "      <td>May 17, 2021</td>\n",
       "      <td>2 am someone checking my car</td>\n",
       "      <td>Click Here to View Post &lt;https://links.neighbo...</td>\n",
       "      <td>Check Out Your Feed &lt;https://links.neighborhoo...</td>\n",
       "      <td>Post Titled: Car                              ...</td>\n",
       "      <td>../data/neighbors_data/brookhaven/A Resident P...</td>\n",
       "    </tr>\n",
       "    <tr>\n",
       "      <th>2</th>\n",
       "      <td>A Resident Posted a Crime Incident</td>\n",
       "      <td>Thu, 20 May 2021 23:47:46 -0400</td>\n",
       "      <td>\"Ring Team\" &lt;no-reply@neighborhoods.ring.com&gt;</td>\n",
       "      <td>andrea.serrano@brookhavenga.gov</td>\n",
       "      <td>NaN</td>\n",
       "      <td>One or two people checking for unlocked car do...</td>\n",
       "      <td>Neighbors Public Safety Service &lt;https://links...</td>\n",
       "      <td>A resident in your area just posted a crime in...</td>\n",
       "      <td>One or two people checking for unlocked car do...</td>\n",
       "      <td>May 21, 2021</td>\n",
       "      <td>Click Here to View Post &lt;https://links.neighbo...</td>\n",
       "      <td>See the full list of crime and safety incident...</td>\n",
       "      <td>Have questions?</td>\n",
       "      <td>Post Titled: One or two people checking for un...</td>\n",
       "      <td>../data/neighbors_data/brookhaven/A Resident P...</td>\n",
       "    </tr>\n",
       "    <tr>\n",
       "      <th>3</th>\n",
       "      <td>A Resident Posted a Crime Incident</td>\n",
       "      <td>Sat, 09 Oct 2021 07:09:43 -0400</td>\n",
       "      <td>Ring Team &lt;no-reply@neighborhoods.ring.com&gt;</td>\n",
       "      <td>robert.orange@brookhavenga.gov</td>\n",
       "      <td>NaN</td>\n",
       "      <td>Parked Cars destroyed at Briarhill</td>\n",
       "      <td>Neighbors Public Safety Service &lt;https://links...</td>\n",
       "      <td>A resident in your area just posted a crime in...</td>\n",
       "      <td>Parked Cars destroyed at Briarhill</td>\n",
       "      <td>October 9, 2021</td>\n",
       "      <td>Three parked cars near the 1200 building at Br...</td>\n",
       "      <td>Click Here to View Post &lt;https://links.neighbo...</td>\n",
       "      <td>Check Out Your Feed &lt;https://links.neighborhoo...</td>\n",
       "      <td>Post Titled: Parked Cars destroyed at Briarhil...</td>\n",
       "      <td>../data/neighbors_data/brookhaven/A Resident P...</td>\n",
       "    </tr>\n",
       "    <tr>\n",
       "      <th>4</th>\n",
       "      <td>A Resident Posted a Crime Incident</td>\n",
       "      <td>Thu, 10 Jun 2021 07:49:36 -0400</td>\n",
       "      <td>\"Ring Team\" &lt;no-reply@neighborhoods.ring.com&gt;</td>\n",
       "      <td>travis.lewis@brookhavenga.gov</td>\n",
       "      <td>NaN</td>\n",
       "      <td>Checking cars again in Peachtree creek townshi...</td>\n",
       "      <td>Neighbors Public Safety Service &lt;https://links...</td>\n",
       "      <td>A resident in your area just posted a crime in...</td>\n",
       "      <td>Checking cars again in Peachtree creek townshi...</td>\n",
       "      <td>June 10, 2021</td>\n",
       "      <td>Checking cars again in Peachtree creek townshi...</td>\n",
       "      <td>Click Here to View Post &lt;https://links.neighbo...</td>\n",
       "      <td>Check Out Your Feed &lt;https://links.neighborhoo...</td>\n",
       "      <td>Post Titled: Checking cars again in Peachtree ...</td>\n",
       "      <td>../data/neighbors_data/brookhaven/A Resident P...</td>\n",
       "    </tr>\n",
       "  </tbody>\n",
       "</table>\n",
       "</div>"
      ],
      "text/plain": [
       "                              subject                             date  \\\n",
       "0  A Resident Posted a Crime Incident  Wed, 17 Nov 2021 18:16:36 -0500   \n",
       "1  A Resident Posted a Crime Incident  Mon, 17 May 2021 08:38:51 -0400   \n",
       "2  A Resident Posted a Crime Incident  Thu, 20 May 2021 23:47:46 -0400   \n",
       "3  A Resident Posted a Crime Incident  Sat, 09 Oct 2021 07:09:43 -0400   \n",
       "4  A Resident Posted a Crime Incident  Thu, 10 Jun 2021 07:49:36 -0400   \n",
       "\n",
       "                                          sender  \\\n",
       "0    Ring Team <no-reply@neighborhoods.ring.com>   \n",
       "1    Ring Team <no-reply@neighborhoods.ring.com>   \n",
       "2  \"Ring Team\" <no-reply@neighborhoods.ring.com>   \n",
       "3    Ring Team <no-reply@neighborhoods.ring.com>   \n",
       "4  \"Ring Team\" <no-reply@neighborhoods.ring.com>   \n",
       "\n",
       "                                to  cc  \\\n",
       "0  andrea.serrano@brookhavenga.gov NaN   \n",
       "1    travis.lewis@brookhavenga.gov NaN   \n",
       "2  andrea.serrano@brookhavenga.gov NaN   \n",
       "3   robert.orange@brookhavenga.gov NaN   \n",
       "4    travis.lewis@brookhavenga.gov NaN   \n",
       "\n",
       "                                      body_title_top  \\\n",
       "0          Stolen Package at Berkshire at Lenox Park   \n",
       "1                                                Car   \n",
       "2  One or two people checking for unlocked car do...   \n",
       "3                 Parked Cars destroyed at Briarhill   \n",
       "4  Checking cars again in Peachtree creek townshi...   \n",
       "\n",
       "                                    body_link1_title  \\\n",
       "0  Neighbors Public Safety Service <https://links...   \n",
       "1  Neighbors Public Safety Service <https://links...   \n",
       "2  Neighbors Public Safety Service <https://links...   \n",
       "3  Neighbors Public Safety Service <https://links...   \n",
       "4  Neighbors Public Safety Service <https://links...   \n",
       "\n",
       "                            body_post_classification  \\\n",
       "0  A resident in your area just posted a crime in...   \n",
       "1  A resident in your area just posted a crime in...   \n",
       "2  A resident in your area just posted a crime in...   \n",
       "3  A resident in your area just posted a crime in...   \n",
       "4  A resident in your area just posted a crime in...   \n",
       "\n",
       "                                          body_title          body_date  \\\n",
       "0          Stolen Package at Berkshire at Lenox Park  November 17, 2021   \n",
       "1                                                Car       May 17, 2021   \n",
       "2  One or two people checking for unlocked car do...       May 21, 2021   \n",
       "3                 Parked Cars destroyed at Briarhill    October 9, 2021   \n",
       "4  Checking cars again in Peachtree creek townshi...      June 10, 2021   \n",
       "\n",
       "                                    body_description  \\\n",
       "0                                     Stolen package   \n",
       "1                       2 am someone checking my car   \n",
       "2  Click Here to View Post <https://links.neighbo...   \n",
       "3  Three parked cars near the 1200 building at Br...   \n",
       "4  Checking cars again in Peachtree creek townshi...   \n",
       "\n",
       "                                    body_link2_title  \\\n",
       "0  Click Here to View Post <https://links.neighbo...   \n",
       "1  Click Here to View Post <https://links.neighbo...   \n",
       "2  See the full list of crime and safety incident...   \n",
       "3  Click Here to View Post <https://links.neighbo...   \n",
       "4  Click Here to View Post <https://links.neighbo...   \n",
       "\n",
       "                                    body_link3_title  \\\n",
       "0  <https://ring.widen.net/content/yxyweylxpc/png...   \n",
       "1  Check Out Your Feed <https://links.neighborhoo...   \n",
       "2                                    Have questions?   \n",
       "3  Check Out Your Feed <https://links.neighborhoo...   \n",
       "4  Check Out Your Feed <https://links.neighborhoo...   \n",
       "\n",
       "                                           body_full  \\\n",
       "0  Post Titled: Stolen Package at Berkshire at Le...   \n",
       "1  Post Titled: Car                              ...   \n",
       "2  Post Titled: One or two people checking for un...   \n",
       "3  Post Titled: Parked Cars destroyed at Briarhil...   \n",
       "4  Post Titled: Checking cars again in Peachtree ...   \n",
       "\n",
       "                                           file_name  \n",
       "0  ../data/neighbors_data/brookhaven/A Resident P...  \n",
       "1  ../data/neighbors_data/brookhaven/A Resident P...  \n",
       "2  ../data/neighbors_data/brookhaven/A Resident P...  \n",
       "3  ../data/neighbors_data/brookhaven/A Resident P...  \n",
       "4  ../data/neighbors_data/brookhaven/A Resident P...  "
      ]
     },
     "execution_count": 3,
     "metadata": {},
     "output_type": "execute_result"
    }
   ],
   "source": [
    "data.head()"
   ]
  },
  {
   "cell_type": "markdown",
   "id": "0dfc2cf2",
   "metadata": {},
   "source": [
    "#### PART ONE: RESAMPLING OVER TIME\n",
    "\n",
    "Before doing any data analysis, let's see what data types the dataset consists of using dtypes. "
   ]
  },
  {
   "cell_type": "code",
   "execution_count": 4,
   "id": "e69df699",
   "metadata": {},
   "outputs": [
    {
     "data": {
      "text/plain": [
       "subject                      object\n",
       "date                         object\n",
       "sender                       object\n",
       "to                           object\n",
       "cc                          float64\n",
       "body_title_top               object\n",
       "body_link1_title             object\n",
       "body_post_classification     object\n",
       "body_title                   object\n",
       "body_date                    object\n",
       "body_description             object\n",
       "body_link2_title             object\n",
       "body_link3_title             object\n",
       "body_full                    object\n",
       "file_name                    object\n",
       "dtype: object"
      ]
     },
     "execution_count": 4,
     "metadata": {},
     "output_type": "execute_result"
    }
   ],
   "source": [
    "data.dtypes"
   ]
  },
  {
   "cell_type": "markdown",
   "id": "d7469a84",
   "metadata": {},
   "source": [
    "Note that 'date' is an object. Before analyzing, the 'date' column needs to be converted to 'datetime64' format so that it can be resampled over time. To do that, we'll use the to_datetime function."
   ]
  },
  {
   "cell_type": "code",
   "execution_count": 5,
   "id": "0e78edfa",
   "metadata": {},
   "outputs": [],
   "source": [
    "data['date'] = pd.to_datetime(data['date'], utc=True)\n"
   ]
  },
  {
   "cell_type": "code",
   "execution_count": 6,
   "id": "f040974a",
   "metadata": {},
   "outputs": [
    {
     "data": {
      "text/plain": [
       "subject                                  object\n",
       "date                        datetime64[ns, UTC]\n",
       "sender                                   object\n",
       "to                                       object\n",
       "cc                                      float64\n",
       "body_title_top                           object\n",
       "body_link1_title                         object\n",
       "body_post_classification                 object\n",
       "body_title                               object\n",
       "body_date                                object\n",
       "body_description                         object\n",
       "body_link2_title                         object\n",
       "body_link3_title                         object\n",
       "body_full                                object\n",
       "file_name                                object\n",
       "dtype: object"
      ]
     },
     "execution_count": 6,
     "metadata": {},
     "output_type": "execute_result"
    }
   ],
   "source": [
    "data.dtypes"
   ]
  },
  {
   "cell_type": "markdown",
   "id": "fcc82997",
   "metadata": {},
   "source": [
    "Now, the data can be resampled over time to analyze how many messages were sent per month. First we'll resample by month."
   ]
  },
  {
   "cell_type": "code",
   "execution_count": 7,
   "id": "fb74a378",
   "metadata": {},
   "outputs": [],
   "source": [
    "messages_over_time = data.set_index('date')"
   ]
  },
  {
   "cell_type": "code",
   "execution_count": 8,
   "id": "b668c3fc",
   "metadata": {},
   "outputs": [],
   "source": [
    "message_tally = messages_over_time.resample('M').count()\n"
   ]
  },
  {
   "cell_type": "code",
   "execution_count": 9,
   "id": "8239307a",
   "metadata": {},
   "outputs": [
    {
     "data": {
      "text/html": [
       "<div>\n",
       "<style scoped>\n",
       "    .dataframe tbody tr th:only-of-type {\n",
       "        vertical-align: middle;\n",
       "    }\n",
       "\n",
       "    .dataframe tbody tr th {\n",
       "        vertical-align: top;\n",
       "    }\n",
       "\n",
       "    .dataframe thead th {\n",
       "        text-align: right;\n",
       "    }\n",
       "</style>\n",
       "<table border=\"1\" class=\"dataframe\">\n",
       "  <thead>\n",
       "    <tr style=\"text-align: right;\">\n",
       "      <th></th>\n",
       "      <th>subject</th>\n",
       "      <th>sender</th>\n",
       "      <th>to</th>\n",
       "      <th>cc</th>\n",
       "      <th>body_title_top</th>\n",
       "      <th>body_link1_title</th>\n",
       "      <th>body_post_classification</th>\n",
       "      <th>body_title</th>\n",
       "      <th>body_date</th>\n",
       "      <th>body_description</th>\n",
       "      <th>body_link2_title</th>\n",
       "      <th>body_link3_title</th>\n",
       "      <th>body_full</th>\n",
       "      <th>file_name</th>\n",
       "    </tr>\n",
       "    <tr>\n",
       "      <th>date</th>\n",
       "      <th></th>\n",
       "      <th></th>\n",
       "      <th></th>\n",
       "      <th></th>\n",
       "      <th></th>\n",
       "      <th></th>\n",
       "      <th></th>\n",
       "      <th></th>\n",
       "      <th></th>\n",
       "      <th></th>\n",
       "      <th></th>\n",
       "      <th></th>\n",
       "      <th></th>\n",
       "      <th></th>\n",
       "    </tr>\n",
       "  </thead>\n",
       "  <tbody>\n",
       "    <tr>\n",
       "      <th>2021-01-31 00:00:00+00:00</th>\n",
       "      <td>15</td>\n",
       "      <td>15</td>\n",
       "      <td>15</td>\n",
       "      <td>0</td>\n",
       "      <td>15</td>\n",
       "      <td>15</td>\n",
       "      <td>15</td>\n",
       "      <td>15</td>\n",
       "      <td>15</td>\n",
       "      <td>15</td>\n",
       "      <td>15</td>\n",
       "      <td>15</td>\n",
       "      <td>15</td>\n",
       "      <td>15</td>\n",
       "    </tr>\n",
       "    <tr>\n",
       "      <th>2021-02-28 00:00:00+00:00</th>\n",
       "      <td>15</td>\n",
       "      <td>15</td>\n",
       "      <td>15</td>\n",
       "      <td>0</td>\n",
       "      <td>15</td>\n",
       "      <td>15</td>\n",
       "      <td>15</td>\n",
       "      <td>15</td>\n",
       "      <td>15</td>\n",
       "      <td>15</td>\n",
       "      <td>15</td>\n",
       "      <td>15</td>\n",
       "      <td>15</td>\n",
       "      <td>15</td>\n",
       "    </tr>\n",
       "    <tr>\n",
       "      <th>2021-03-31 00:00:00+00:00</th>\n",
       "      <td>120</td>\n",
       "      <td>120</td>\n",
       "      <td>120</td>\n",
       "      <td>0</td>\n",
       "      <td>120</td>\n",
       "      <td>120</td>\n",
       "      <td>120</td>\n",
       "      <td>120</td>\n",
       "      <td>120</td>\n",
       "      <td>120</td>\n",
       "      <td>120</td>\n",
       "      <td>120</td>\n",
       "      <td>120</td>\n",
       "      <td>120</td>\n",
       "    </tr>\n",
       "    <tr>\n",
       "      <th>2021-04-30 00:00:00+00:00</th>\n",
       "      <td>15</td>\n",
       "      <td>15</td>\n",
       "      <td>15</td>\n",
       "      <td>0</td>\n",
       "      <td>15</td>\n",
       "      <td>15</td>\n",
       "      <td>15</td>\n",
       "      <td>15</td>\n",
       "      <td>15</td>\n",
       "      <td>15</td>\n",
       "      <td>15</td>\n",
       "      <td>15</td>\n",
       "      <td>15</td>\n",
       "      <td>15</td>\n",
       "    </tr>\n",
       "    <tr>\n",
       "      <th>2021-05-31 00:00:00+00:00</th>\n",
       "      <td>53</td>\n",
       "      <td>53</td>\n",
       "      <td>53</td>\n",
       "      <td>0</td>\n",
       "      <td>53</td>\n",
       "      <td>53</td>\n",
       "      <td>53</td>\n",
       "      <td>53</td>\n",
       "      <td>53</td>\n",
       "      <td>53</td>\n",
       "      <td>53</td>\n",
       "      <td>53</td>\n",
       "      <td>53</td>\n",
       "      <td>53</td>\n",
       "    </tr>\n",
       "  </tbody>\n",
       "</table>\n",
       "</div>"
      ],
      "text/plain": [
       "                           subject  sender   to  cc  body_title_top  \\\n",
       "date                                                                  \n",
       "2021-01-31 00:00:00+00:00       15      15   15   0              15   \n",
       "2021-02-28 00:00:00+00:00       15      15   15   0              15   \n",
       "2021-03-31 00:00:00+00:00      120     120  120   0             120   \n",
       "2021-04-30 00:00:00+00:00       15      15   15   0              15   \n",
       "2021-05-31 00:00:00+00:00       53      53   53   0              53   \n",
       "\n",
       "                           body_link1_title  body_post_classification  \\\n",
       "date                                                                    \n",
       "2021-01-31 00:00:00+00:00                15                        15   \n",
       "2021-02-28 00:00:00+00:00                15                        15   \n",
       "2021-03-31 00:00:00+00:00               120                       120   \n",
       "2021-04-30 00:00:00+00:00                15                        15   \n",
       "2021-05-31 00:00:00+00:00                53                        53   \n",
       "\n",
       "                           body_title  body_date  body_description  \\\n",
       "date                                                                 \n",
       "2021-01-31 00:00:00+00:00          15         15                15   \n",
       "2021-02-28 00:00:00+00:00          15         15                15   \n",
       "2021-03-31 00:00:00+00:00         120        120               120   \n",
       "2021-04-30 00:00:00+00:00          15         15                15   \n",
       "2021-05-31 00:00:00+00:00          53         53                53   \n",
       "\n",
       "                           body_link2_title  body_link3_title  body_full  \\\n",
       "date                                                                       \n",
       "2021-01-31 00:00:00+00:00                15                15         15   \n",
       "2021-02-28 00:00:00+00:00                15                15         15   \n",
       "2021-03-31 00:00:00+00:00               120               120        120   \n",
       "2021-04-30 00:00:00+00:00                15                15         15   \n",
       "2021-05-31 00:00:00+00:00                53                53         53   \n",
       "\n",
       "                           file_name  \n",
       "date                                  \n",
       "2021-01-31 00:00:00+00:00         15  \n",
       "2021-02-28 00:00:00+00:00         15  \n",
       "2021-03-31 00:00:00+00:00        120  \n",
       "2021-04-30 00:00:00+00:00         15  \n",
       "2021-05-31 00:00:00+00:00         53  "
      ]
     },
     "execution_count": 9,
     "metadata": {},
     "output_type": "execute_result"
    }
   ],
   "source": [
    "message_tally.head()"
   ]
  },
  {
   "cell_type": "markdown",
   "id": "4dcb11db",
   "metadata": {},
   "source": [
    "Now, we can use the 'file name' column as a unique identifier. That allows us to tally how many messages were sent per month."
   ]
  },
  {
   "cell_type": "code",
   "execution_count": 10,
   "id": "aead531c",
   "metadata": {},
   "outputs": [],
   "source": [
    "monthly_message_count = message_tally['file_name']"
   ]
  },
  {
   "cell_type": "code",
   "execution_count": 11,
   "id": "61beb567",
   "metadata": {},
   "outputs": [
    {
     "data": {
      "text/plain": [
       "date\n",
       "2021-01-31 00:00:00+00:00     15\n",
       "2021-02-28 00:00:00+00:00     15\n",
       "2021-03-31 00:00:00+00:00    120\n",
       "2021-04-30 00:00:00+00:00     15\n",
       "2021-05-31 00:00:00+00:00     53\n",
       "Freq: M, Name: file_name, dtype: int64"
      ]
     },
     "execution_count": 11,
     "metadata": {},
     "output_type": "execute_result"
    }
   ],
   "source": [
    "monthly_message_count.head()"
   ]
  },
  {
   "cell_type": "markdown",
   "id": "a9944fa7",
   "metadata": {},
   "source": [
    "Since this tally is stored as a new variable, we can export it as a CSV file."
   ]
  },
  {
   "cell_type": "code",
   "execution_count": 12,
   "id": "fa9d4503",
   "metadata": {},
   "outputs": [],
   "source": [
    "monthly_message_count.to_csv('../output/monthly_message_count.csv', index=False)"
   ]
  },
  {
   "cell_type": "markdown",
   "id": "a9c6427a",
   "metadata": {},
   "source": [
    "####PART TWO: ANALYZING MESSAGES FOR CONTENTS\n",
    "\n",
    "First we can create a boolean column that will populate True if the body of the email contains the word 'package' and False if it does not. "
   ]
  },
  {
   "cell_type": "code",
   "execution_count": 13,
   "id": "7f7445ba",
   "metadata": {},
   "outputs": [],
   "source": [
    "data[\"includes_package\"] = data[\"body_full\"].apply(\n",
    "    \n",
    "    lambda x: \"package\" in str(x).lower()\n",
    ")"
   ]
  },
  {
   "cell_type": "markdown",
   "id": "ba563da9",
   "metadata": {},
   "source": [
    "Now we can count how many messages contain 'package.'"
   ]
  },
  {
   "cell_type": "code",
   "execution_count": 14,
   "id": "57dad51c",
   "metadata": {},
   "outputs": [
    {
     "data": {
      "text/plain": [
       "False    380\n",
       "True     114\n",
       "Name: includes_package, dtype: int64"
      ]
     },
     "execution_count": 14,
     "metadata": {},
     "output_type": "execute_result"
    }
   ],
   "source": [
    "data[\"includes_package\"].value_counts()"
   ]
  },
  {
   "cell_type": "markdown",
   "id": "3e628bbc",
   "metadata": {},
   "source": [
    "Next, we can repeat the code to analyze messages that contain the word 'car.'"
   ]
  },
  {
   "cell_type": "code",
   "execution_count": 15,
   "id": "3904ceeb",
   "metadata": {},
   "outputs": [],
   "source": [
    "data[\"includes_car\"] = data[\"body_full\"].apply(\n",
    "    \n",
    "    lambda x: \"car\" in str(x).lower()\n",
    ")"
   ]
  },
  {
   "cell_type": "code",
   "execution_count": 16,
   "id": "5fe9943d",
   "metadata": {},
   "outputs": [
    {
     "data": {
      "text/plain": [
       "True     306\n",
       "False    188\n",
       "Name: includes_car, dtype: int64"
      ]
     },
     "execution_count": 16,
     "metadata": {},
     "output_type": "execute_result"
    }
   ],
   "source": [
    "data[\"includes_car\"].value_counts()"
   ]
  },
  {
   "cell_type": "code",
   "execution_count": null,
   "id": "63b8ec63",
   "metadata": {},
   "outputs": [],
   "source": []
  }
 ],
 "metadata": {
  "kernelspec": {
   "display_name": "Python 3 (ipykernel)",
   "language": "python",
   "name": "python3"
  },
  "language_info": {
   "codemirror_mode": {
    "name": "ipython",
    "version": 3
   },
   "file_extension": ".py",
   "mimetype": "text/x-python",
   "name": "python",
   "nbconvert_exporter": "python",
   "pygments_lexer": "ipython3",
   "version": "3.9.10"
  }
 },
 "nbformat": 4,
 "nbformat_minor": 5
}
